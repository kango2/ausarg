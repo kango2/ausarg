{
 "cells": [
  {
   "cell_type": "code",
   "execution_count": 2,
   "id": "7e41aa07-f45d-4879-a291-d84cde2a334c",
   "metadata": {},
   "outputs": [
    {
     "data": {
      "text/plain": [
       "'/g/data/xl04/genomeprojects/referencedata/tmp/plot/referencespeciesorder.txt'"
      ]
     },
     "execution_count": 2,
     "metadata": {},
     "output_type": "execute_result"
    }
   ],
   "source": [
    "# Read the Newick file and parse the tree\n",
    "from Bio import Phylo\n",
    "\n",
    "# Load the tree from the file\n",
    "tree_path = \"/g/data/xl04/genomeprojects/referencedata/tmp/plot/referencespecies copy.txt\"\n",
    "tree = Phylo.read(tree_path, \"newick\")\n",
    "\n",
    "# Define the desired order of species\n",
    "desired_order = [\n",
    "    \"Gallus Gallus\",\n",
    "    \"Heteronotia binoei\",\n",
    "    \"Naja Naja\",\n",
    "    \"Anolis carolinensis\",\n",
    "    \"Pogona vitticeps\",\n",
    "    \"Laudakia wui\",\n",
    "    \"Phrynocephalus guinanensis\",\n",
    "]\n",
    "\n",
    "# Convert tree clades to a dictionary for reordering\n",
    "clade_dict = {clade.name: clade for clade in tree.find_clades() if clade.name}\n",
    "\n",
    "# Reorder the tree based on the desired order\n",
    "reordered_clades = [clade_dict[name] for name in desired_order if name in clade_dict]\n",
    "\n",
    "# Create a new tree with reordered clades\n",
    "tree.clades = reordered_clades\n",
    "\n",
    "# Save the reordered tree to a new Newick file\n",
    "reordered_tree_path = \"/g/data/xl04/genomeprojects/referencedata/tmp/plot/referencespeciesorder.nwk\"\n",
    "Phylo.write(tree, reordered_tree_path, \"newick\")\n",
    "\n",
    "# Provide the link to download the reordered tree\n",
    "reordered_tree_path\n"
   ]
  },
  {
   "cell_type": "code",
   "execution_count": null,
   "id": "ac588e11-9ea9-4635-9edd-f8abf5f57bd8",
   "metadata": {},
   "outputs": [],
   "source": []
  }
 ],
 "metadata": {
  "kernelspec": {
   "display_name": "Python 3 (ipykernel)",
   "language": "python",
   "name": "python3"
  },
  "language_info": {
   "codemirror_mode": {
    "name": "ipython",
    "version": 3
   },
   "file_extension": ".py",
   "mimetype": "text/x-python",
   "name": "python",
   "nbconvert_exporter": "python",
   "pygments_lexer": "ipython3",
   "version": "3.9.2"
  }
 },
 "nbformat": 4,
 "nbformat_minor": 5
}

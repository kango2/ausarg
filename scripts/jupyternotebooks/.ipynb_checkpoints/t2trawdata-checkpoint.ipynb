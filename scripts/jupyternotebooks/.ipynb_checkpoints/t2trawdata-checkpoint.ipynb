{
 "cells": [
  {
   "cell_type": "markdown",
   "id": "61717134-6cff-4007-bca9-282b46877d0c",
   "metadata": {},
   "source": [
    "Long-Read"
   ]
  },
  {
   "cell_type": "code",
   "execution_count": 1,
   "id": "8f3ba6fb-d48d-404b-a1b4-50b91ae67e20",
   "metadata": {},
   "outputs": [],
   "source": [
    "import pandas as pd\n",
    "import glob\n",
    "\n",
    "# Define the paths for the folders\n",
    "pb_folder = \"/g/data/te53/t2t2024/analyses/rawdataeval/ncig/pb/*stats*.csv\"\n",
    "ont_folder = \"/g/data/te53/t2t2024/analyses/rawdataeval/ncig/ont/*stats*.csv\"\n",
    "\n",
    "# Function to process files and add columns\n",
    "def process_files(files, tech_label):\n",
    "    data = []\n",
    "    for file in files:\n",
    "        df = pd.read_csv(file)\n",
    "        # Add the 'tech' column\n",
    "        df['tech'] = tech_label\n",
    "        # Split the 'Sample' column and extract 'donor' and 'flowcell'\n",
    "        df[['donor', 'flowcell']] = df['Sample'].str.split('_', expand=True)[[0, 3]]\n",
    "        data.append(df)\n",
    "    return data\n",
    "\n",
    "# Read and process all CSV files from both folders\n",
    "pb_files = glob.glob(pb_folder)\n",
    "ont_files = glob.glob(ont_folder)\n",
    "\n",
    "pb_data = process_files(pb_files, 'pb')\n",
    "ont_data = process_files(ont_files, 'ont')\n",
    "\n",
    "# Combine the data from both technologies\n",
    "df = pd.concat(pb_data + ont_data, ignore_index=True)\n",
    "df = df[['donor', 'tech', 'flowcell','Total_Bases', 'Total_Reads', 'Average_Read_Length', 'N50','N90']]\n",
    "df['Average_Read_Length'] = df['Average_Read_Length'].round(2)\n",
    "df_supplementary = df.copy()\n",
    "df_maintext = df.copy()"
   ]
  },
  {
   "cell_type": "code",
   "execution_count": 2,
   "id": "78f5f596-1889-475c-91ca-739748f85f41",
   "metadata": {},
   "outputs": [],
   "source": [
    "df_maintext = df_maintext.groupby(['donor','tech']).agg(\n",
    "    Total_Bases=('Total_Bases', 'sum'),\n",
    "    Total_Reads=('Total_Reads', 'sum'),\n",
    "    Average_Read_Length=('Average_Read_Length', 'mean'),\n",
    "    N50=('N50', 'mean'),\n",
    "    N90=('N90', 'mean')\n",
    ").reset_index()\n",
    "df_maintext[['Average_Read_Length', 'N50', 'N90']] = df_maintext[['Average_Read_Length', 'N50', 'N90']].round(2)\n",
    "df_maintext['Total_Bases'] = (df_maintext['Total_Bases'] / 1e9).round(2)"
   ]
  },
  {
   "cell_type": "code",
   "execution_count": 3,
   "id": "a147b8f5-807f-4608-b211-547ad1953df3",
   "metadata": {},
   "outputs": [],
   "source": [
    "df_maintext.to_csv(\"/g/data/te53/t2t2024/analyses/rawdataeval/finalcsv-manuscript/longread-maintext.csv\")"
   ]
  },
  {
   "cell_type": "code",
   "execution_count": 4,
   "id": "6822c48d-1703-4b67-a232-a30761b94321",
   "metadata": {},
   "outputs": [],
   "source": [
    "df_supplementary  = df_supplementary.sort_values(by=['donor', 'tech']).reset_index(drop=True)\n",
    "df_supplementary['Total_Bases'] = (df_supplementary['Total_Bases'] / 1e9).round(2)"
   ]
  },
  {
   "cell_type": "code",
   "execution_count": 5,
   "id": "bce88ccc-c8d4-48fe-b164-ff51038e0d90",
   "metadata": {},
   "outputs": [],
   "source": [
    "df_supplementary.to_csv(\"/g/data/te53/t2t2024/analyses/rawdataeval/finalcsv-manuscript/longread-supplementary.csv\")"
   ]
  },
  {
   "cell_type": "markdown",
   "id": "710e47f9-3e77-4edd-ac87-b97790ed041d",
   "metadata": {},
   "source": [
    "Short read"
   ]
  },
  {
   "cell_type": "code",
   "execution_count": 6,
   "id": "e1c8b43d-ddd4-4346-8f1f-dde51bf0ccf9",
   "metadata": {},
   "outputs": [],
   "source": [
    "import pandas as pd\n",
    "\n",
    "# Read the TSV file into a DataFrame\n",
    "df = pd.read_csv(\"/g/data/te53/t2t2024/analyses/rawdataeval/ncig/illumina/output/multiqc_data/multiqc_fastqc.txt\",sep='\\t',usecols=range(10))\n",
    "df = df[['Sample','Total Sequences','avg_sequence_length']]\n",
    "df['Total_bases'] = ((df['avg_sequence_length'] * df ['Total Sequences'])/1e9)\n",
    "df[['Total_bases','avg_sequence_length']] = df[['Total_bases','avg_sequence_length']].round(2)"
   ]
  },
  {
   "cell_type": "code",
   "execution_count": 7,
   "id": "0b968d89-1af4-4141-9a31-c91a3ae7f756",
   "metadata": {},
   "outputs": [],
   "source": [
    "df[['donor', 'uniqueID', 'tubeID', 'lane']] = df['Sample'].str.split('.', expand=True)\n",
    "# Drop the original 'sample' column\n",
    "df = df.drop(columns=['Sample'])\n",
    "df = df[['donor','uniqueID','tubeID','lane','Total Sequences', 'avg_sequence_length', 'Total_bases']]\n",
    "\n",
    "df_supplementary = df.copy()\n",
    "df_maintext = df.copy()"
   ]
  },
  {
   "cell_type": "code",
   "execution_count": 8,
   "id": "c521527d-7845-4492-8446-888f2839f168",
   "metadata": {},
   "outputs": [],
   "source": [
    "df_supplementary = df_supplementary.groupby(['donor', 'uniqueID', 'tubeID']).agg(\n",
    "    {\n",
    "        'lane': lambda x: ';'.join(x),\n",
    "        'Total Sequences': lambda x: ';'.join(map(str, x)),\n",
    "        'avg_sequence_length': lambda x: ';'.join(map(str, x)),\n",
    "        'Total_bases': lambda x: ';'.join(map(str, x)),\n",
    "    }\n",
    ").reset_index()"
   ]
  },
  {
   "cell_type": "code",
   "execution_count": 9,
   "id": "e3b92649-731e-4c4f-b6ad-c2b0580a099a",
   "metadata": {},
   "outputs": [],
   "source": [
    "df_supplementary[['donor', 'uniqueID','Total Sequences','avg_sequence_length', 'Total_bases']].to_csv(\"/g/data/te53/t2t2024/analyses/rawdataeval/finalcsv-manuscript/shortread-supplementary.csv\")"
   ]
  },
  {
   "cell_type": "code",
   "execution_count": 10,
   "id": "3f791a3d-06b8-42d4-97c3-ae1f155e1eb0",
   "metadata": {},
   "outputs": [],
   "source": [
    "# Group by donor and lane, then aggregate\n",
    "aggregated = (\n",
    "    df.groupby(['donor', 'lane'])\n",
    "    .agg({\n",
    "        'Total Sequences': 'sum',\n",
    "        'avg_sequence_length': 'mean',\n",
    "        'Total_bases': 'sum'\n",
    "    })\n",
    "    .reset_index()\n",
    ")\n",
    "\n",
    "aggregated[['Total_bases','avg_sequence_length']] = aggregated[['Total_bases','avg_sequence_length']].round(2)\n",
    "\n",
    "# Pivot to get R1 and R2 in separate columns\n",
    "pivoted = aggregated.pivot(index='donor', columns='lane')\n",
    "pivoted.columns = [f\"{col[0]}_{col[1]}\" for col in pivoted.columns]\n",
    "\n",
    "# Combine R1 and R2 into the semicolon-separated structure\n",
    "pivoted['Total Sequences'] = pivoted['Total Sequences_R1'].astype(str) + ';' + pivoted['Total Sequences_R2'].astype(str)\n",
    "pivoted['avg_sequence_length'] = pivoted['avg_sequence_length_R1'].astype(str) + ';' + pivoted['avg_sequence_length_R2'].astype(str)\n",
    "pivoted['Total_bases'] = pivoted['Total_bases_R1'].astype(str) + ';' + pivoted['Total_bases_R2'].astype(str)\n",
    "\n",
    "# Select final columns\n",
    "df_maintext = pivoted[['Total Sequences', 'avg_sequence_length', 'Total_bases']].reset_index()\n"
   ]
  },
  {
   "cell_type": "code",
   "execution_count": 11,
   "id": "c6d5be5a-5a89-4f98-8932-e6d75e7292ad",
   "metadata": {},
   "outputs": [],
   "source": [
    "df_maintext.to_csv(\"/g/data/te53/t2t2024/analyses/rawdataeval/finalcsv-manuscript/shortread-maintext.csv\")"
   ]
  },
  {
   "cell_type": "raw",
   "id": "4f672827-c3f7-4a96-a739-391beaa9de02",
   "metadata": {},
   "source": [
    "Quality values"
   ]
  },
  {
   "cell_type": "code",
   "execution_count": 12,
   "id": "8f551f9c-5a03-4ed6-9643-24540c3cff18",
   "metadata": {},
   "outputs": [],
   "source": [
    "# Define the paths for the folders\n",
    "pb_folder = \"/g/data/te53/t2t2024/analyses/rawdataeval/ncig/pb/*quality*.csv\"\n",
    "ont_folder = \"/g/data/te53/t2t2024/analyses/rawdataeval/ncig/ont/*quality*.csv\"\n",
    "\n",
    "# Function to process files and add columns\n",
    "def process_files(files, tech_label):\n",
    "    data = []\n",
    "    for file in files:\n",
    "        df = pd.read_csv(file)\n",
    "        # Add the 'tech' column\n",
    "        df['tech'] = tech_label\n",
    "        # Split the 'Sample' column and extract 'donor' and 'flowcell'\n",
    "        df[['donor', 'flowcell']] = df['Sample'].str.split('_', expand=True)[[0, 3]]\n",
    "        data.append(df)\n",
    "    return data\n"
   ]
  },
  {
   "cell_type": "code",
   "execution_count": 13,
   "id": "768fbfab-95b2-4108-80d7-e1e6d9d97967",
   "metadata": {},
   "outputs": [],
   "source": [
    "# Read and process all CSV files from both folders\n",
    "pb_files = glob.glob(pb_folder)\n",
    "ont_files = glob.glob(ont_folder)\n",
    "\n",
    "pb_data = process_files(pb_files, 'pb')\n",
    "ont_data = process_files(ont_files, 'ont')"
   ]
  },
  {
   "cell_type": "code",
   "execution_count": 15,
   "id": "6d68d9e7-74f2-413c-b72d-1c854fb3b36c",
   "metadata": {},
   "outputs": [],
   "source": [
    "df = pd.concat(pb_data + ont_data, ignore_index=True)"
   ]
  },
  {
   "cell_type": "code",
   "execution_count": 18,
   "id": "e26bbe80-38e1-4b26-b232-1ab4b22dac85",
   "metadata": {},
   "outputs": [],
   "source": [
    "df = df[[ 'donor','flowcell','Read_Length', 'QV', 'Read_Numbers', 'tech']]"
   ]
  },
  {
   "cell_type": "code",
   "execution_count": 26,
   "id": "d1503103-96f2-4402-afd6-bb04707352a7",
   "metadata": {},
   "outputs": [
    {
     "data": {
      "text/html": [
       "<div>\n",
       "<style scoped>\n",
       "    .dataframe tbody tr th:only-of-type {\n",
       "        vertical-align: middle;\n",
       "    }\n",
       "\n",
       "    .dataframe tbody tr th {\n",
       "        vertical-align: top;\n",
       "    }\n",
       "\n",
       "    .dataframe thead th {\n",
       "        text-align: right;\n",
       "    }\n",
       "</style>\n",
       "<table border=\"1\" class=\"dataframe\">\n",
       "  <thead>\n",
       "    <tr style=\"text-align: right;\">\n",
       "      <th></th>\n",
       "      <th>donor</th>\n",
       "      <th>flowcell</th>\n",
       "      <th>QV</th>\n",
       "    </tr>\n",
       "  </thead>\n",
       "  <tbody>\n",
       "    <tr>\n",
       "      <th>0</th>\n",
       "      <td>N002580</td>\n",
       "      <td>DA121306</td>\n",
       "      <td>53.112055</td>\n",
       "    </tr>\n",
       "    <tr>\n",
       "      <th>1</th>\n",
       "      <td>N002580</td>\n",
       "      <td>DA121307</td>\n",
       "      <td>53.030053</td>\n",
       "    </tr>\n",
       "    <tr>\n",
       "      <th>2</th>\n",
       "      <td>N002580</td>\n",
       "      <td>DA121328</td>\n",
       "      <td>52.947740</td>\n",
       "    </tr>\n",
       "    <tr>\n",
       "      <th>3</th>\n",
       "      <td>N002580</td>\n",
       "      <td>DA136084</td>\n",
       "      <td>53.325429</td>\n",
       "    </tr>\n",
       "    <tr>\n",
       "      <th>4</th>\n",
       "      <td>N002580</td>\n",
       "      <td>DA173513</td>\n",
       "      <td>53.713633</td>\n",
       "    </tr>\n",
       "    <tr>\n",
       "      <th>...</th>\n",
       "      <td>...</td>\n",
       "      <td>...</td>\n",
       "      <td>...</td>\n",
       "    </tr>\n",
       "    <tr>\n",
       "      <th>71</th>\n",
       "      <td>N008294</td>\n",
       "      <td>PTXXXX230364</td>\n",
       "      <td>25.679376</td>\n",
       "    </tr>\n",
       "    <tr>\n",
       "      <th>72</th>\n",
       "      <td>N008294</td>\n",
       "      <td>RGBX230026</td>\n",
       "      <td>32.775923</td>\n",
       "    </tr>\n",
       "    <tr>\n",
       "      <th>73</th>\n",
       "      <td>N008294</td>\n",
       "      <td>RGBX230033</td>\n",
       "      <td>33.073733</td>\n",
       "    </tr>\n",
       "    <tr>\n",
       "      <th>74</th>\n",
       "      <td>N008294</td>\n",
       "      <td>RGBX230091</td>\n",
       "      <td>33.956005</td>\n",
       "    </tr>\n",
       "    <tr>\n",
       "      <th>75</th>\n",
       "      <td>N008294</td>\n",
       "      <td>RGBX230092</td>\n",
       "      <td>33.858508</td>\n",
       "    </tr>\n",
       "  </tbody>\n",
       "</table>\n",
       "<p>76 rows × 3 columns</p>\n",
       "</div>"
      ],
      "text/plain": [
       "      donor      flowcell         QV\n",
       "0   N002580      DA121306  53.112055\n",
       "1   N002580      DA121307  53.030053\n",
       "2   N002580      DA121328  52.947740\n",
       "3   N002580      DA136084  53.325429\n",
       "4   N002580      DA173513  53.713633\n",
       "..      ...           ...        ...\n",
       "71  N008294  PTXXXX230364  25.679376\n",
       "72  N008294    RGBX230026  32.775923\n",
       "73  N008294    RGBX230033  33.073733\n",
       "74  N008294    RGBX230091  33.956005\n",
       "75  N008294    RGBX230092  33.858508\n",
       "\n",
       "[76 rows x 3 columns]"
      ]
     },
     "execution_count": 26,
     "metadata": {},
     "output_type": "execute_result"
    }
   ],
   "source": [
    "df.groupby(['donor','flowcell'])['QV'].mean().reset_index()"
   ]
  },
  {
   "cell_type": "code",
   "execution_count": 28,
   "id": "6d92910d-a452-413e-8f7a-485cc54aff99",
   "metadata": {},
   "outputs": [],
   "source": [
    "overall_min_max_qv_by_tech = df.groupby('tech')['QV'].agg(['min', 'max']).reset_index()"
   ]
  },
  {
   "cell_type": "code",
   "execution_count": 29,
   "id": "5f1659d3-e731-4ec9-897c-5246086ab990",
   "metadata": {},
   "outputs": [
    {
     "data": {
      "text/html": [
       "<div>\n",
       "<style scoped>\n",
       "    .dataframe tbody tr th:only-of-type {\n",
       "        vertical-align: middle;\n",
       "    }\n",
       "\n",
       "    .dataframe tbody tr th {\n",
       "        vertical-align: top;\n",
       "    }\n",
       "\n",
       "    .dataframe thead th {\n",
       "        text-align: right;\n",
       "    }\n",
       "</style>\n",
       "<table border=\"1\" class=\"dataframe\">\n",
       "  <thead>\n",
       "    <tr style=\"text-align: right;\">\n",
       "      <th></th>\n",
       "      <th>tech</th>\n",
       "      <th>min</th>\n",
       "      <th>max</th>\n",
       "    </tr>\n",
       "  </thead>\n",
       "  <tbody>\n",
       "    <tr>\n",
       "      <th>0</th>\n",
       "      <td>ont</td>\n",
       "      <td>0</td>\n",
       "      <td>50</td>\n",
       "    </tr>\n",
       "    <tr>\n",
       "      <th>1</th>\n",
       "      <td>pb</td>\n",
       "      <td>21</td>\n",
       "      <td>93</td>\n",
       "    </tr>\n",
       "  </tbody>\n",
       "</table>\n",
       "</div>"
      ],
      "text/plain": [
       "  tech  min  max\n",
       "0  ont    0   50\n",
       "1   pb   21   93"
      ]
     },
     "execution_count": 29,
     "metadata": {},
     "output_type": "execute_result"
    }
   ],
   "source": [
    "overall_min_max_qv_by_tech"
   ]
  },
  {
   "cell_type": "code",
   "execution_count": 30,
   "id": "a647e66d-d8fd-4a67-b1cf-29494f55ff12",
   "metadata": {},
   "outputs": [
    {
     "data": {
      "text/html": [
       "<div>\n",
       "<style scoped>\n",
       "    .dataframe tbody tr th:only-of-type {\n",
       "        vertical-align: middle;\n",
       "    }\n",
       "\n",
       "    .dataframe tbody tr th {\n",
       "        vertical-align: top;\n",
       "    }\n",
       "\n",
       "    .dataframe thead th {\n",
       "        text-align: right;\n",
       "    }\n",
       "</style>\n",
       "<table border=\"1\" class=\"dataframe\">\n",
       "  <thead>\n",
       "    <tr style=\"text-align: right;\">\n",
       "      <th></th>\n",
       "      <th>tech</th>\n",
       "      <th>QV</th>\n",
       "    </tr>\n",
       "  </thead>\n",
       "  <tbody>\n",
       "    <tr>\n",
       "      <th>0</th>\n",
       "      <td>ont</td>\n",
       "      <td>22.503957</td>\n",
       "    </tr>\n",
       "    <tr>\n",
       "      <th>1</th>\n",
       "      <td>pb</td>\n",
       "      <td>49.986322</td>\n",
       "    </tr>\n",
       "  </tbody>\n",
       "</table>\n",
       "</div>"
      ],
      "text/plain": [
       "  tech         QV\n",
       "0  ont  22.503957\n",
       "1   pb  49.986322"
      ]
     },
     "execution_count": 30,
     "metadata": {},
     "output_type": "execute_result"
    }
   ],
   "source": [
    "df.groupby('tech')['QV'].mean().reset_index()"
   ]
  },
  {
   "cell_type": "code",
   "execution_count": null,
   "id": "6f7fd035-0f3d-4505-a683-50070e12a40e",
   "metadata": {},
   "outputs": [],
   "source": []
  }
 ],
 "metadata": {
  "kernelspec": {
   "display_name": "Python 3 (ipykernel)",
   "language": "python",
   "name": "python3"
  },
  "language_info": {
   "codemirror_mode": {
    "name": "ipython",
    "version": 3
   },
   "file_extension": ".py",
   "mimetype": "text/x-python",
   "name": "python",
   "nbconvert_exporter": "python",
   "pygments_lexer": "ipython3",
   "version": "3.9.2"
  }
 },
 "nbformat": 4,
 "nbformat_minor": 5
}
